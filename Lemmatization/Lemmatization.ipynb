{
  "nbformat": 4,
  "nbformat_minor": 0,
  "metadata": {
    "colab": {
      "provenance": [],
      "toc_visible": true
    },
    "kernelspec": {
      "name": "python3",
      "display_name": "Python 3"
    },
    "language_info": {
      "name": "python"
    }
  },
  "cells": [
    {
      "cell_type": "markdown",
      "source": [
        "#Text Input"
      ],
      "metadata": {
        "id": "7EFfi_cdbtDz"
      }
    },
    {
      "cell_type": "code",
      "source": [
        "paragraph=\"\"\"My dear young friends, dream, dream, dream. Dreams transform into thoughts and thoughts result in action. You have to dream before your dreams can come true. You should have a goal and a constant quest to acquire knowledge. Hard work and perseverance are essential. Use technology for the benefit of humankind and not for its destruction. The ignited mind of the youth is the most powerful resource on the earth, above the earth, and under the earth. When the student is ready, the teacher will appear. Aim high, dream big, and work hard to achieve those dreams. The future belongs to the young who have the courage to dream and the determination to realize those dreams. Remember, small aim is a crime; have great aim and pursue it with all your heart.\"\"\""
      ],
      "metadata": {
        "id": "eizDAiJnbl1p"
      },
      "execution_count": 14,
      "outputs": []
    },
    {
      "cell_type": "markdown",
      "source": [
        "# Lemmatization\n",
        "It is a fundamental text pre-processing technique widely applied in natural language processing (NLP) and machine learning. Serving a purpose akin to stemming, lemmatization seeks to distill words to their foundational forms. In this linguistic refinement, the resultant base word is referred to as a “lemma.”"
      ],
      "metadata": {
        "id": "WI0x6Xvpip31"
      }
    },
    {
      "cell_type": "markdown",
      "source": [
        "##Lemmatization Techniques:"
      ],
      "metadata": {
        "id": "3Moudf4si5AY"
      }
    },
    {
      "cell_type": "markdown",
      "source": [
        "### Using NLTK's WordNetLemmatizer:\n",
        "\n",
        "NLTK (Natural Language Toolkit) provides a simple interface to WordNet, a large lexical database of English."
      ],
      "metadata": {
        "id": "uOM7cNxNjB4c"
      }
    },
    {
      "cell_type": "code",
      "execution_count": 19,
      "metadata": {
        "colab": {
          "base_uri": "https://localhost:8080/"
        },
        "id": "4khRER6aVL4b",
        "outputId": "1ebd86c2-5f39-45ec-feb1-c8de8acfbb1b"
      },
      "outputs": [
        {
          "output_type": "stream",
          "name": "stdout",
          "text": [
            "Requirement already satisfied: nltk in /usr/local/lib/python3.10/dist-packages (3.8.1)\n",
            "Requirement already satisfied: click in /usr/local/lib/python3.10/dist-packages (from nltk) (8.1.7)\n",
            "Requirement already satisfied: joblib in /usr/local/lib/python3.10/dist-packages (from nltk) (1.4.2)\n",
            "Requirement already satisfied: regex>=2021.8.3 in /usr/local/lib/python3.10/dist-packages (from nltk) (2024.5.15)\n",
            "Requirement already satisfied: tqdm in /usr/local/lib/python3.10/dist-packages (from nltk) (4.66.4)\n"
          ]
        }
      ],
      "source": [
        "!pip install nltk\n",
        "import nltk"
      ]
    },
    {
      "cell_type": "code",
      "source": [
        "\n",
        "nltk.download('stopwords')\n",
        "nltk.download('popular',quiet=True)\n",
        "nltk.download('punkt')\n",
        "nltk.download('wordnet')\n"
      ],
      "metadata": {
        "colab": {
          "base_uri": "https://localhost:8080/"
        },
        "id": "oqyFtXOfZUUS",
        "outputId": "395add65-7bad-4c78-9c1e-8f0fece516e8"
      },
      "execution_count": 20,
      "outputs": [
        {
          "output_type": "stream",
          "name": "stderr",
          "text": [
            "[nltk_data] Downloading package stopwords to /root/nltk_data...\n",
            "[nltk_data]   Package stopwords is already up-to-date!\n",
            "[nltk_data] Downloading package punkt to /root/nltk_data...\n",
            "[nltk_data]   Package punkt is already up-to-date!\n",
            "[nltk_data] Downloading package wordnet to /root/nltk_data...\n",
            "[nltk_data]   Package wordnet is already up-to-date!\n"
          ]
        },
        {
          "output_type": "execute_result",
          "data": {
            "text/plain": [
              "True"
            ]
          },
          "metadata": {},
          "execution_count": 20
        }
      ]
    },
    {
      "cell_type": "code",
      "source": [
        "from nltk.corpus import stopwords\n",
        "from nltk.stem import WordNetLemmatizer\n",
        "from nltk.tokenize import word_tokenize"
      ],
      "metadata": {
        "id": "4Tm06ecDbhwQ"
      },
      "execution_count": 21,
      "outputs": []
    },
    {
      "cell_type": "markdown",
      "source": [
        "Required Tokenization"
      ],
      "metadata": {
        "id": "-ae3E_9ib02x"
      }
    },
    {
      "cell_type": "code",
      "source": [
        "sentences= nltk.sent_tokenize(paragraph)"
      ],
      "metadata": {
        "id": "ry-7IXoSb7eh"
      },
      "execution_count": 22,
      "outputs": []
    },
    {
      "cell_type": "code",
      "source": [
        "# Initialize the WordNet Lemmatizer\n",
        "lemmatizer = WordNetLemmatizer()\n"
      ],
      "metadata": {
        "id": "lFf9N6imiKwC"
      },
      "execution_count": 23,
      "outputs": []
    },
    {
      "cell_type": "code",
      "source": [
        "#Lemmatization\n",
        "# Process each sentence\n",
        "for i in range(len(sentences)):\n",
        "    words = word_tokenize(sentences[i])\n",
        "    words = [lemmatizer.lemmatize(word) for word in words if word.lower() not in set(stopwords.words('english'))]\n",
        "    sentences[i] = ' '.join(words)\n",
        "\n",
        "# Reconstruct the paragraph from processed sentences\n",
        "lemmatized_paragraph = ' '.join(sentences)\n",
        "\n",
        "# Print the lemmatized paragraph\n",
        "print(lemmatized_paragraph)\n"
      ],
      "metadata": {
        "colab": {
          "base_uri": "https://localhost:8080/"
        },
        "id": "6f8dgUtmgicn",
        "outputId": "d04b6271-9410-4a14-c6f1-b1df6cb716a6"
      },
      "execution_count": 25,
      "outputs": [
        {
          "output_type": "stream",
          "name": "stdout",
          "text": [
            "dear young friend , dream , dream , dream . Dreams transform thought thought result action . dream dream come true . goal constant quest acquire knowledge . Hard work perseverance essential . Use technology benefit humankind destruction . ignited mind youth powerful resource earth , earth , earth . student ready , teacher appear . Aim high , dream big , work hard achieve dream . future belongs young courage dream determination realize dream . Remember , small aim crime ; great aim pursue heart .\n"
          ]
        }
      ]
    },
    {
      "cell_type": "markdown",
      "source": [
        "###Using spaCy:\n",
        "\n",
        "spaCy is an open-source software library for advanced natural language processing in Python. It includes POS tagging and lemmatization.\n"
      ],
      "metadata": {
        "id": "wjSgtLHvkjuO"
      }
    },
    {
      "cell_type": "code",
      "source": [
        "#download important NLTK DataFiles\n",
        "nltk.download('averaged_perceptron_tagger')"
      ],
      "metadata": {
        "colab": {
          "base_uri": "https://localhost:8080/"
        },
        "id": "9Us93gDWkpPB",
        "outputId": "72151cb2-3217-4dc4-d24c-2f5672efb72c"
      },
      "execution_count": 26,
      "outputs": [
        {
          "output_type": "stream",
          "name": "stderr",
          "text": [
            "[nltk_data] Downloading package averaged_perceptron_tagger to\n",
            "[nltk_data]     /root/nltk_data...\n",
            "[nltk_data]   Package averaged_perceptron_tagger is already up-to-\n",
            "[nltk_data]       date!\n"
          ]
        },
        {
          "output_type": "execute_result",
          "data": {
            "text/plain": [
              "True"
            ]
          },
          "metadata": {},
          "execution_count": 26
        }
      ]
    },
    {
      "cell_type": "code",
      "source": [
        "import nltk\n",
        "from nltk.corpus import wordnet\n",
        "from nltk.stem import WordNetLemmatizer\n",
        "from nltk.tokenize import word_tokenize\n",
        "\n",
        "# Download necessary NLTK data files\n",
        "nltk.download('punkt')\n",
        "nltk.download('wordnet')\n",
        "nltk.download('averaged_perceptron_tagger')\n",
        "\n",
        "# Function to map NLTK POS tags to WordNet POS tags\n",
        "def get_wordnet_pos(word):\n",
        "    tag = nltk.pos_tag([word])[0][1][0].upper()\n",
        "    tag_dict = {\"J\": wordnet.ADJ, \"N\": wordnet.NOUN, \"V\": wordnet.VERB, \"R\": wordnet.ADV}\n",
        "    return tag_dict.get(tag, wordnet.NOUN)\n",
        "\n",
        "lemmatizer = WordNetLemmatizer()\n",
        "# Tokenize the sentence\n",
        "words = word_tokenize(paragraph)\n",
        "\n",
        "# Lemmatize each word with POS tag consideration\n",
        "lemmatized_words = [lemmatizer.lemmatize(word, get_wordnet_pos(word)) for word in words]\n",
        "\n",
        "print(\"Original paragraph:\")\n",
        "print(paragraph)\n",
        "print(\"\\nLemmatized Sentence:\")\n",
        "print(' '.join(lemmatized_words))\n",
        "\n"
      ],
      "metadata": {
        "colab": {
          "base_uri": "https://localhost:8080/"
        },
        "id": "xTGcpI-zlKmt",
        "outputId": "fd0cff23-7df9-4817-ae73-8f7add4cbf90"
      },
      "execution_count": 30,
      "outputs": [
        {
          "output_type": "stream",
          "name": "stdout",
          "text": [
            "Original paragraph:\n",
            "My dear young friends, dream, dream, dream. Dreams transform into thoughts and thoughts result in action. You have to dream before your dreams can come true. You should have a goal and a constant quest to acquire knowledge. Hard work and perseverance are essential. Use technology for the benefit of humankind and not for its destruction. The ignited mind of the youth is the most powerful resource on the earth, above the earth, and under the earth. When the student is ready, the teacher will appear. Aim high, dream big, and work hard to achieve those dreams. The future belongs to the young who have the courage to dream and the determination to realize those dreams. Remember, small aim is a crime; have great aim and pursue it with all your heart.\n",
            "\n",
            "Lemmatized Sentence:\n",
            "My dear young friend , dream , dream , dream . Dreams transform into thought and thought result in action . You have to dream before your dream can come true . You should have a goal and a constant quest to acquire knowledge . Hard work and perseverance be essential . Use technology for the benefit of humankind and not for it destruction . The ignite mind of the youth be the most powerful resource on the earth , above the earth , and under the earth . When the student be ready , the teacher will appear . Aim high , dream big , and work hard to achieve those dream . The future belongs to the young who have the courage to dream and the determination to realize those dream . Remember , small aim be a crime ; have great aim and pursue it with all your heart .\n"
          ]
        },
        {
          "output_type": "stream",
          "name": "stderr",
          "text": [
            "[nltk_data] Downloading package punkt to /root/nltk_data...\n",
            "[nltk_data]   Package punkt is already up-to-date!\n",
            "[nltk_data] Downloading package wordnet to /root/nltk_data...\n",
            "[nltk_data]   Package wordnet is already up-to-date!\n",
            "[nltk_data] Downloading package averaged_perceptron_tagger to\n",
            "[nltk_data]     /root/nltk_data...\n",
            "[nltk_data]   Package averaged_perceptron_tagger is already up-to-\n",
            "[nltk_data]       date!\n"
          ]
        }
      ]
    },
    {
      "cell_type": "markdown",
      "source": [
        "### Using TextBlob:\n",
        "\n",
        "TextBlob is a simpler library built on top of NLTK and provides easy-to-use APIs for common NLP tasks, including lemmatization."
      ],
      "metadata": {
        "id": "r8W9BVSFmkS2"
      }
    },
    {
      "cell_type": "code",
      "source": [
        "from textblob import TextBlob\n",
        "\n",
        "# Create a TextBlob object\n",
        "blob = TextBlob(paragraph)\n",
        "\n",
        "# Lemmatize each word\n",
        "lemmatized_words = [word.lemmatize() for word in blob.words]\n",
        "\n",
        "print(\"Original paragraph:\")\n",
        "print(paragraph)\n",
        "print(\"\\nLemmatized Sentence:\")\n",
        "print(' '.join(lemmatized_words))\n"
      ],
      "metadata": {
        "colab": {
          "base_uri": "https://localhost:8080/"
        },
        "id": "5eTrsKOHmoG-",
        "outputId": "1e9bfcd4-dd90-448c-8a85-095d9e676a1e"
      },
      "execution_count": 31,
      "outputs": [
        {
          "output_type": "stream",
          "name": "stdout",
          "text": [
            "Original paragraph:\n",
            "My dear young friends, dream, dream, dream. Dreams transform into thoughts and thoughts result in action. You have to dream before your dreams can come true. You should have a goal and a constant quest to acquire knowledge. Hard work and perseverance are essential. Use technology for the benefit of humankind and not for its destruction. The ignited mind of the youth is the most powerful resource on the earth, above the earth, and under the earth. When the student is ready, the teacher will appear. Aim high, dream big, and work hard to achieve those dreams. The future belongs to the young who have the courage to dream and the determination to realize those dreams. Remember, small aim is a crime; have great aim and pursue it with all your heart.\n",
            "\n",
            "Lemmatized Sentence:\n",
            "My dear young friend dream dream dream Dreams transform into thought and thought result in action You have to dream before your dream can come true You should have a goal and a constant quest to acquire knowledge Hard work and perseverance are essential Use technology for the benefit of humankind and not for it destruction The ignited mind of the youth is the most powerful resource on the earth above the earth and under the earth When the student is ready the teacher will appear Aim high dream big and work hard to achieve those dream The future belongs to the young who have the courage to dream and the determination to realize those dream Remember small aim is a crime have great aim and pursue it with all your heart\n"
          ]
        }
      ]
    },
    {
      "cell_type": "markdown",
      "source": [
        "### Machine learning (ML) based lemmatization :\n",
        "It involves using ML models to predict the base or root form of a word based on its context. While traditional lemmatizers like the one provided by NLTK use rule-based approaches, ML-based lemmatizers leverage the power of large datasets and advanced algorithms to learn and predict the lemma of a word more accurately."
      ],
      "metadata": {
        "id": "2hInHMhzneR0"
      }
    },
    {
      "cell_type": "code",
      "source": [
        "import spacy\n",
        "\n",
        "# Load the spaCy model\n",
        "nlp = spacy.load('en_core_web_sm')\n",
        "# Process the paragraph with spaCy\n",
        "doc = nlp(paragraph)\n",
        "\n",
        "# Lemmatize each word\n",
        "lemmatized_words = [token.lemma_ for token in doc]\n",
        "\n",
        "print(\"Original Paragraph:\")\n",
        "print(paragraph)\n",
        "print(\"\\nLemmatized Paragraph:\")\n",
        "print(' '.join(lemmatized_words))\n"
      ],
      "metadata": {
        "colab": {
          "base_uri": "https://localhost:8080/"
        },
        "id": "6WEwVbPlnoGi",
        "outputId": "236e7f12-351d-40bd-d6cf-dd3098c8d2a1"
      },
      "execution_count": 32,
      "outputs": [
        {
          "output_type": "stream",
          "name": "stdout",
          "text": [
            "Original Paragraph:\n",
            "My dear young friends, dream, dream, dream. Dreams transform into thoughts and thoughts result in action. You have to dream before your dreams can come true. You should have a goal and a constant quest to acquire knowledge. Hard work and perseverance are essential. Use technology for the benefit of humankind and not for its destruction. The ignited mind of the youth is the most powerful resource on the earth, above the earth, and under the earth. When the student is ready, the teacher will appear. Aim high, dream big, and work hard to achieve those dreams. The future belongs to the young who have the courage to dream and the determination to realize those dreams. Remember, small aim is a crime; have great aim and pursue it with all your heart.\n",
            "\n",
            "Lemmatized Paragraph:\n",
            "my dear young friend , dream , dream , dream . dream transform into thought and thought result in action . you have to dream before your dream can come true . you should have a goal and a constant quest to acquire knowledge . hard work and perseverance be essential . use technology for the benefit of humankind and not for its destruction . the ignited mind of the youth be the most powerful resource on the earth , above the earth , and under the earth . when the student be ready , the teacher will appear . Aim high , dream big , and work hard to achieve those dream . the future belong to the young who have the courage to dream and the determination to realize those dream . remember , small aim be a crime ; have great aim and pursue it with all your heart .\n"
          ]
        }
      ]
    }
  ]
}